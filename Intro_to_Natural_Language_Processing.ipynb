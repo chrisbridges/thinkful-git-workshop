{
  "nbformat": 4,
  "nbformat_minor": 0,
  "metadata": {
    "colab": {
      "name": "Copy of Attendee Intro to Natural Language Processing.ipynb",
      "provenance": [],
      "collapsed_sections": [],
      "include_colab_link": true
    },
    "kernelspec": {
      "name": "python3",
      "display_name": "Python 3"
    }
  },
  "cells": [
    {
      "cell_type": "markdown",
      "metadata": {
        "id": "view-in-github",
        "colab_type": "text"
      },
      "source": [
        "<a href=\"https://colab.research.google.com/github/hrnagesh/thinkful-git-workshop/blob/master/Intro_to_Natural_Language_Processing.ipynb\" target=\"_parent\"><img src=\"https://colab.research.google.com/assets/colab-badge.svg\" alt=\"Open In Colab\"/></a>"
      ]
    },
    {
      "cell_type": "markdown",
      "metadata": {
        "id": "SbIn3W7KpgzF",
        "colab_type": "text"
      },
      "source": [
        "# Intro to Natural Language Processing\n",
        "- Throughout this notebook we will be exploring foundational concepts regarding NLP and applying them in a miniature project where we analyze sentiment from hotel reviews.\n",
        "- Anytime you see a line surrounded by triple asterisks, `***LIKE THIS***`, that is a line of code that you will need to replace or edit.\n",
        "- Have fun and good luck coding!\n",
        "- First try - @Nagesh"
      ]
    },
    {
      "cell_type": "markdown",
      "metadata": {
        "id": "OA4LkYlgleLy",
        "colab_type": "text"
      },
      "source": [
        "> To execute a line or block of code, simply click the \"Play\" button on the left side or use the keyboard shortcut \"Shift + Enter\"\n",
        "> When that code block has actually been executed, the blank brackets will change to have a number inside of them."
      ]
    },
    {
      "cell_type": "code",
      "metadata": {
        "id": "g6H9AHD_lhzK",
        "colab_type": "code",
        "colab": {
          "base_uri": "https://localhost:8080/",
          "height": 34
        },
        "outputId": "3574d99d-7b31-4492-bf92-10201a1b7727"
      },
      "source": [
        "x = \"This is first text to analyze\"\n",
        "print(x)"
      ],
      "execution_count": 6,
      "outputs": [
        {
          "output_type": "stream",
          "text": [
            "This is first text to analyze\n"
          ],
          "name": "stdout"
        }
      ]
    },
    {
      "cell_type": "markdown",
      "metadata": {
        "id": "R5oCQ00ypRfw",
        "colab_type": "text"
      },
      "source": [
        "### Importing the Packages That We'll Need\n",
        "One of the things that makes Python **great** for data science is all of the different libraries that exist so we don't have to code them from scratch. Tonight we'll be taking advantage of:\n",
        "- [Pandas](https://pandas.pydata.org/) for data wrangling and analysis\n",
        "- [Scikit-learn](https://scikit-learn.org/stable/) for machine learning\n",
        "- [Regex](https://docs.python.org/3/library/re.html) for regular expression and text parsing\n",
        "- [Matplotlib](https://matplotlib.org/) for visualizing and plotting our data"
      ]
    },
    {
      "cell_type": "code",
      "metadata": {
        "id": "nWxx6fOTpZHi",
        "colab_type": "code",
        "colab": {}
      },
      "source": [
        "import pandas as pd\n",
        "import sklearn\n",
        "import re\n",
        "import matplotlib.pyplot as plt\n",
        "%matplotlib inline"
      ],
      "execution_count": 0,
      "outputs": []
    },
    {
      "cell_type": "markdown",
      "metadata": {
        "id": "bQ6wSzd0p7Uz",
        "colab_type": "text"
      },
      "source": [
        "## Import the Data Set\n",
        "Pandas can work with information from all kinds of data sources. Below, we'll import the data we need from a GitHub URL and read it into a Pandas Dataframe."
      ]
    },
    {
      "cell_type": "code",
      "metadata": {
        "id": "4U7q1yZopdv0",
        "colab_type": "code",
        "colab": {
          "base_uri": "https://localhost:8080/",
          "height": 315
        },
        "outputId": "16cab538-cb18-4d85-f53c-d60adf8d02d3"
      },
      "source": [
        "data = pd.read_csv('https://github.com/Thinkful-Ed/data-201-resources/raw/master/hotel-reviews.csv')\n",
        "data.head(3)"
      ],
      "execution_count": 8,
      "outputs": [
        {
          "output_type": "execute_result",
          "data": {
            "text/html": [
              "<div>\n",
              "<style scoped>\n",
              "    .dataframe tbody tr th:only-of-type {\n",
              "        vertical-align: middle;\n",
              "    }\n",
              "\n",
              "    .dataframe tbody tr th {\n",
              "        vertical-align: top;\n",
              "    }\n",
              "\n",
              "    .dataframe thead th {\n",
              "        text-align: right;\n",
              "    }\n",
              "</style>\n",
              "<table border=\"1\" class=\"dataframe\">\n",
              "  <thead>\n",
              "    <tr style=\"text-align: right;\">\n",
              "      <th></th>\n",
              "      <th>address</th>\n",
              "      <th>categories</th>\n",
              "      <th>city</th>\n",
              "      <th>country</th>\n",
              "      <th>latitude</th>\n",
              "      <th>longitude</th>\n",
              "      <th>name</th>\n",
              "      <th>postalCode</th>\n",
              "      <th>province</th>\n",
              "      <th>reviews.date</th>\n",
              "      <th>reviews.dateAdded</th>\n",
              "      <th>reviews.doRecommend</th>\n",
              "      <th>reviews.id</th>\n",
              "      <th>reviews.rating</th>\n",
              "      <th>reviews.text</th>\n",
              "      <th>reviews.title</th>\n",
              "      <th>reviews.userCity</th>\n",
              "      <th>reviews.username</th>\n",
              "      <th>reviews.userProvince</th>\n",
              "    </tr>\n",
              "  </thead>\n",
              "  <tbody>\n",
              "    <tr>\n",
              "      <th>0</th>\n",
              "      <td>Riviera San Nicol 11/a</td>\n",
              "      <td>Hotels</td>\n",
              "      <td>Mableton</td>\n",
              "      <td>US</td>\n",
              "      <td>45.421611</td>\n",
              "      <td>12.376187</td>\n",
              "      <td>Hotel Russo Palace</td>\n",
              "      <td>30126</td>\n",
              "      <td>GA</td>\n",
              "      <td>2013-09-22T00:00:00Z</td>\n",
              "      <td>2016-10-24T00:00:25Z</td>\n",
              "      <td>NaN</td>\n",
              "      <td>NaN</td>\n",
              "      <td>4.0</td>\n",
              "      <td>Pleasant 10 min walk along the sea front to th...</td>\n",
              "      <td>Good location away from the crouds</td>\n",
              "      <td>NaN</td>\n",
              "      <td>Russ (kent)</td>\n",
              "      <td>NaN</td>\n",
              "    </tr>\n",
              "    <tr>\n",
              "      <th>1</th>\n",
              "      <td>Riviera San Nicol 11/a</td>\n",
              "      <td>Hotels</td>\n",
              "      <td>Mableton</td>\n",
              "      <td>US</td>\n",
              "      <td>45.421611</td>\n",
              "      <td>12.376187</td>\n",
              "      <td>Hotel Russo Palace</td>\n",
              "      <td>30126</td>\n",
              "      <td>GA</td>\n",
              "      <td>2015-04-03T00:00:00Z</td>\n",
              "      <td>2016-10-24T00:00:25Z</td>\n",
              "      <td>NaN</td>\n",
              "      <td>NaN</td>\n",
              "      <td>5.0</td>\n",
              "      <td>Really lovely hotel. Stayed on the very top fl...</td>\n",
              "      <td>Great hotel with Jacuzzi bath!</td>\n",
              "      <td>NaN</td>\n",
              "      <td>A Traveler</td>\n",
              "      <td>NaN</td>\n",
              "    </tr>\n",
              "    <tr>\n",
              "      <th>2</th>\n",
              "      <td>Riviera San Nicol 11/a</td>\n",
              "      <td>Hotels</td>\n",
              "      <td>Mableton</td>\n",
              "      <td>US</td>\n",
              "      <td>45.421611</td>\n",
              "      <td>12.376187</td>\n",
              "      <td>Hotel Russo Palace</td>\n",
              "      <td>30126</td>\n",
              "      <td>GA</td>\n",
              "      <td>2014-05-13T00:00:00Z</td>\n",
              "      <td>2016-10-24T00:00:25Z</td>\n",
              "      <td>NaN</td>\n",
              "      <td>NaN</td>\n",
              "      <td>5.0</td>\n",
              "      <td>Ett mycket bra hotell. Det som drog ner betyge...</td>\n",
              "      <td>Lugnt l��ge</td>\n",
              "      <td>NaN</td>\n",
              "      <td>Maud</td>\n",
              "      <td>NaN</td>\n",
              "    </tr>\n",
              "  </tbody>\n",
              "</table>\n",
              "</div>"
            ],
            "text/plain": [
              "                  address categories  ... reviews.username reviews.userProvince\n",
              "0  Riviera San Nicol 11/a     Hotels  ...      Russ (kent)                  NaN\n",
              "1  Riviera San Nicol 11/a     Hotels  ...       A Traveler                  NaN\n",
              "2  Riviera San Nicol 11/a     Hotels  ...             Maud                  NaN\n",
              "\n",
              "[3 rows x 19 columns]"
            ]
          },
          "metadata": {
            "tags": []
          },
          "execution_count": 8
        }
      ]
    },
    {
      "cell_type": "code",
      "metadata": {
        "id": "hx1m4zAh03t_",
        "colab_type": "code",
        "colab": {
          "base_uri": "https://localhost:8080/",
          "height": 34
        },
        "outputId": "d12e6a59-8f32-44a0-96ef-dbf6dd97864b"
      },
      "source": [
        "# Checking the size of our data (rows, columns)\n",
        "data.shape"
      ],
      "execution_count": 9,
      "outputs": [
        {
          "output_type": "execute_result",
          "data": {
            "text/plain": [
              "(35912, 19)"
            ]
          },
          "metadata": {
            "tags": []
          },
          "execution_count": 9
        }
      ]
    },
    {
      "cell_type": "markdown",
      "metadata": {
        "id": "SHo5b892v00O",
        "colab_type": "text"
      },
      "source": [
        "We don't need to worry about using all of our different columns for this project. Instead, we'll focus just on the test review and ratings columns."
      ]
    },
    {
      "cell_type": "code",
      "metadata": {
        "id": "s__KGVIXvzfl",
        "colab_type": "code",
        "colab": {
          "base_uri": "https://localhost:8080/",
          "height": 142
        },
        "outputId": "0e2b6f6b-5f8a-4b3c-c50f-59e8eb764ac3"
      },
      "source": [
        "data=data[['name', 'reviews.rating', 'reviews.text']]\n",
        "data.head(3)"
      ],
      "execution_count": 11,
      "outputs": [
        {
          "output_type": "execute_result",
          "data": {
            "text/html": [
              "<div>\n",
              "<style scoped>\n",
              "    .dataframe tbody tr th:only-of-type {\n",
              "        vertical-align: middle;\n",
              "    }\n",
              "\n",
              "    .dataframe tbody tr th {\n",
              "        vertical-align: top;\n",
              "    }\n",
              "\n",
              "    .dataframe thead th {\n",
              "        text-align: right;\n",
              "    }\n",
              "</style>\n",
              "<table border=\"1\" class=\"dataframe\">\n",
              "  <thead>\n",
              "    <tr style=\"text-align: right;\">\n",
              "      <th></th>\n",
              "      <th>name</th>\n",
              "      <th>reviews.rating</th>\n",
              "      <th>reviews.text</th>\n",
              "    </tr>\n",
              "  </thead>\n",
              "  <tbody>\n",
              "    <tr>\n",
              "      <th>0</th>\n",
              "      <td>Hotel Russo Palace</td>\n",
              "      <td>4.0</td>\n",
              "      <td>Pleasant 10 min walk along the sea front to th...</td>\n",
              "    </tr>\n",
              "    <tr>\n",
              "      <th>1</th>\n",
              "      <td>Hotel Russo Palace</td>\n",
              "      <td>5.0</td>\n",
              "      <td>Really lovely hotel. Stayed on the very top fl...</td>\n",
              "    </tr>\n",
              "    <tr>\n",
              "      <th>2</th>\n",
              "      <td>Hotel Russo Palace</td>\n",
              "      <td>5.0</td>\n",
              "      <td>Ett mycket bra hotell. Det som drog ner betyge...</td>\n",
              "    </tr>\n",
              "  </tbody>\n",
              "</table>\n",
              "</div>"
            ],
            "text/plain": [
              "                 name  ...                                       reviews.text\n",
              "0  Hotel Russo Palace  ...  Pleasant 10 min walk along the sea front to th...\n",
              "1  Hotel Russo Palace  ...  Really lovely hotel. Stayed on the very top fl...\n",
              "2  Hotel Russo Palace  ...  Ett mycket bra hotell. Det som drog ner betyge...\n",
              "\n",
              "[3 rows x 3 columns]"
            ]
          },
          "metadata": {
            "tags": []
          },
          "execution_count": 11
        }
      ]
    },
    {
      "cell_type": "markdown",
      "metadata": {
        "id": "Hf150eD4wRH9",
        "colab_type": "text"
      },
      "source": [
        "Pandas also has some cool funcitonality that let's us quickly edit aspects of our dataframe object like the column names. **Don't forget to make sure those changes persist by using the `inplace` parameter or by overwriting the variable like we did above!**"
      ]
    },
    {
      "cell_type": "code",
      "metadata": {
        "id": "btS5OpxtgGL5",
        "colab_type": "code",
        "colab": {}
      },
      "source": [
        "data.rename(columns={'name':'hotel_name', 'reviews.rating': 'review_rating', 'reviews.text':'review_text'}, inplace=True)"
      ],
      "execution_count": 0,
      "outputs": []
    },
    {
      "cell_type": "code",
      "metadata": {
        "id": "7hZm0yYTwvfj",
        "colab_type": "code",
        "colab": {
          "base_uri": "https://localhost:8080/",
          "height": 142
        },
        "outputId": "ed4b9730-bdfd-45fc-93ef-e8baec7d9d13"
      },
      "source": [
        "# Check to make sure our changes took effect\n",
        "data.head(3)"
      ],
      "execution_count": 13,
      "outputs": [
        {
          "output_type": "execute_result",
          "data": {
            "text/html": [
              "<div>\n",
              "<style scoped>\n",
              "    .dataframe tbody tr th:only-of-type {\n",
              "        vertical-align: middle;\n",
              "    }\n",
              "\n",
              "    .dataframe tbody tr th {\n",
              "        vertical-align: top;\n",
              "    }\n",
              "\n",
              "    .dataframe thead th {\n",
              "        text-align: right;\n",
              "    }\n",
              "</style>\n",
              "<table border=\"1\" class=\"dataframe\">\n",
              "  <thead>\n",
              "    <tr style=\"text-align: right;\">\n",
              "      <th></th>\n",
              "      <th>hotel_name</th>\n",
              "      <th>review_rating</th>\n",
              "      <th>review_text</th>\n",
              "    </tr>\n",
              "  </thead>\n",
              "  <tbody>\n",
              "    <tr>\n",
              "      <th>0</th>\n",
              "      <td>Hotel Russo Palace</td>\n",
              "      <td>4.0</td>\n",
              "      <td>Pleasant 10 min walk along the sea front to th...</td>\n",
              "    </tr>\n",
              "    <tr>\n",
              "      <th>1</th>\n",
              "      <td>Hotel Russo Palace</td>\n",
              "      <td>5.0</td>\n",
              "      <td>Really lovely hotel. Stayed on the very top fl...</td>\n",
              "    </tr>\n",
              "    <tr>\n",
              "      <th>2</th>\n",
              "      <td>Hotel Russo Palace</td>\n",
              "      <td>5.0</td>\n",
              "      <td>Ett mycket bra hotell. Det som drog ner betyge...</td>\n",
              "    </tr>\n",
              "  </tbody>\n",
              "</table>\n",
              "</div>"
            ],
            "text/plain": [
              "           hotel_name  ...                                        review_text\n",
              "0  Hotel Russo Palace  ...  Pleasant 10 min walk along the sea front to th...\n",
              "1  Hotel Russo Palace  ...  Really lovely hotel. Stayed on the very top fl...\n",
              "2  Hotel Russo Palace  ...  Ett mycket bra hotell. Det som drog ner betyge...\n",
              "\n",
              "[3 rows x 3 columns]"
            ]
          },
          "metadata": {
            "tags": []
          },
          "execution_count": 13
        }
      ]
    },
    {
      "cell_type": "markdown",
      "metadata": {
        "id": "LdFRYurbsGty",
        "colab_type": "text"
      },
      "source": [
        "## Data Wrangling / Processing\n",
        "A major part of every data science project is the data wrangling and processing phase, and this is especially true in NLP. During this section of the notebook, we'll cover:\n",
        "- How to clean up the clutter from our initial text.\n",
        "- How to work with variables assignment and Pandas syntax to make sure those changes persist.\n",
        "- How to use Pandas' `map` functionality to assign more relevant labels to our reviews."
      ]
    },
    {
      "cell_type": "code",
      "metadata": {
        "id": "_liArCEux3T6",
        "colab_type": "code",
        "colab": {
          "base_uri": "https://localhost:8080/",
          "height": 1000
        },
        "outputId": "a067c3c9-a0da-4261-e92f-56636efd674d"
      },
      "source": [
        "# Make everything lower case — but this doesn't actually change our dataframe!\n",
        "data['review_text'].str.lower()"
      ],
      "execution_count": 14,
      "outputs": [
        {
          "output_type": "execute_result",
          "data": {
            "text/plain": [
              "0        pleasant 10 min walk along the sea front to th...\n",
              "1        really lovely hotel. stayed on the very top fl...\n",
              "2        ett mycket bra hotell. det som drog ner betyge...\n",
              "3        we stayed here for four nights in october. the...\n",
              "4        we stayed here for four nights in october. the...\n",
              "5        we loved staying on the island of lido! you ne...\n",
              "6        lovely view out onto the lagoon. excellent vie...\n",
              "7        ottimo soggiorno e ottima sistemazione nei gio...\n",
              "8        gnstiger ausgangspunkt fr venedig besuche. ruh...\n",
              "9        lidoen er perfekt til et par dages ro og afsla...\n",
              "10       accueil chaleureux, en franais changement du l...\n",
              "11       it was ok hotel is nice from in and out but ro...\n",
              "12       klasse frhstck, freundliches und aufmerksames ...\n",
              "13       bardzo sympatyczna obsuga, klimat hotelu. wiet...\n",
              "14       bra o lugnt lge. stor terrass. nra till den hr...\n",
              "15       the hotel staff was very friendly and helpful....\n",
              "16       nice hotel , with very friendly staff and help...\n",
              "17       wir hatten leider pech mit unserem zimmer,war ...\n",
              "18                                                     . .\n",
              "19       hotellihuone oli ullakolla, jossa ei pystynyt ...\n",
              "20       don't stay here unless you're less than 2 feet...\n",
              "21       we had absolutely no problems whatsoever with ...\n",
              "22       wir buchten das hotel fr 4 nchte in der woche ...\n",
              "23       lovely hotel, 10 min walk to the water bus sto...\n",
              "24       das hotel liegt auf der insel lido neben vened...\n",
              "25       located on the lido i would recommend this hot...\n",
              "26       mysigt med fina rum, bra frukost och nra bde t...\n",
              "27       hotel ist sehr gut , wir waren zum zweiten mal...\n",
              "28       wir hatten ein zimmer mit balkon und blick auf...\n",
              "29       great stay...close to ferry.food not so good n...\n",
              "                               ...                        \n",
              "35882    we stayed in smoky mountain romance with our 3...\n",
              "35883    very nice cabin for 2. king bed, loft with poo...\n",
              "35884    our cabin was surrounded by trees with a view ...\n",
              "35885    beautiful luxury rental cabin development near...\n",
              "35886    we have been using elk springs resort for seve...\n",
              "35887    buckwild cabin is very nice. only bad thing i ...\n",
              "35888    we really enjoyed our stay. the accommodations...\n",
              "35889    the views of the mountains was spectacular and...\n",
              "35890    this is my first review on trip advisor simply...\n",
              "35891    i went on a girls trip and my friend booked th...\n",
              "35892    we had a great time loved the cabins! we staye...\n",
              "35893    we stayed at the mount laurel cabin and it was...\n",
              "35894    best gatlinburg cabins i cannot say enough pos...\n",
              "35895    we recently stayed at a cabin that is managed ...\n",
              "35896    my wife and i had the pleasure of staying at u...\n",
              "35897    our family of 6 stayed for 6 nights and had a ...\n",
              "35898    southern comfort cabin is great. it's on the e...\n",
              "35899    we went exactly at the fall ...so had wonderfu...\n",
              "35900    we took our first 'adult family vacation' this...\n",
              "35901    we had a wonderful visit to breathtaking views...\n",
              "35902    we are extremely disappointed in this company....\n",
              "35903    our family of 14 stayed in a 5 bedroom cabin, ...\n",
              "35904    we stayed at elk springs resort for the week o...\n",
              "35905    we truly enjoyed staying at the elk springs re...\n",
              "35906    we were here for a 2nd time the last weekend o...\n",
              "35907    best of the best!!!! my family and i stayed in...\n",
              "35908    amazing vacation in beautiful cabin we stayed ...\n",
              "35909    my husband and i stayed at tree tops which is ...\n",
              "35910    to share your opinion of this businesswith yp ...\n",
              "35911           xxxxxxxxxxxxxxxxxxxxxxxxxxxxxxxxxxxxxxxxxx\n",
              "Name: review_text, Length: 35912, dtype: object"
            ]
          },
          "metadata": {
            "tags": []
          },
          "execution_count": 14
        }
      ]
    },
    {
      "cell_type": "code",
      "metadata": {
        "id": "u08SeRvjx8Ff",
        "colab_type": "code",
        "colab": {
          "base_uri": "https://localhost:8080/",
          "height": 142
        },
        "outputId": "0d7d22c3-330e-449b-9b0d-08ef464d2c15"
      },
      "source": [
        "# Make sure that change actually \"sticks\"\n",
        "data['review_text'] = data['review_text'].str.lower()\n",
        "data.head(3)\n"
      ],
      "execution_count": 16,
      "outputs": [
        {
          "output_type": "execute_result",
          "data": {
            "text/html": [
              "<div>\n",
              "<style scoped>\n",
              "    .dataframe tbody tr th:only-of-type {\n",
              "        vertical-align: middle;\n",
              "    }\n",
              "\n",
              "    .dataframe tbody tr th {\n",
              "        vertical-align: top;\n",
              "    }\n",
              "\n",
              "    .dataframe thead th {\n",
              "        text-align: right;\n",
              "    }\n",
              "</style>\n",
              "<table border=\"1\" class=\"dataframe\">\n",
              "  <thead>\n",
              "    <tr style=\"text-align: right;\">\n",
              "      <th></th>\n",
              "      <th>hotel_name</th>\n",
              "      <th>review_rating</th>\n",
              "      <th>review_text</th>\n",
              "    </tr>\n",
              "  </thead>\n",
              "  <tbody>\n",
              "    <tr>\n",
              "      <th>0</th>\n",
              "      <td>Hotel Russo Palace</td>\n",
              "      <td>4.0</td>\n",
              "      <td>pleasant 10 min walk along the sea front to th...</td>\n",
              "    </tr>\n",
              "    <tr>\n",
              "      <th>1</th>\n",
              "      <td>Hotel Russo Palace</td>\n",
              "      <td>5.0</td>\n",
              "      <td>really lovely hotel. stayed on the very top fl...</td>\n",
              "    </tr>\n",
              "    <tr>\n",
              "      <th>2</th>\n",
              "      <td>Hotel Russo Palace</td>\n",
              "      <td>5.0</td>\n",
              "      <td>ett mycket bra hotell. det som drog ner betyge...</td>\n",
              "    </tr>\n",
              "  </tbody>\n",
              "</table>\n",
              "</div>"
            ],
            "text/plain": [
              "           hotel_name  ...                                        review_text\n",
              "0  Hotel Russo Palace  ...  pleasant 10 min walk along the sea front to th...\n",
              "1  Hotel Russo Palace  ...  really lovely hotel. stayed on the very top fl...\n",
              "2  Hotel Russo Palace  ...  ett mycket bra hotell. det som drog ner betyge...\n",
              "\n",
              "[3 rows x 3 columns]"
            ]
          },
          "metadata": {
            "tags": []
          },
          "execution_count": 16
        }
      ]
    },
    {
      "cell_type": "code",
      "metadata": {
        "id": "0RKG-AZ9pgHj",
        "colab_type": "code",
        "colab": {}
      },
      "source": [
        "# Remove non-text characters in a similar fashion.\n",
        "data['review_text'] = data['review_text'].str.replace(r'\\.|\\!|\\?|\\'|,|-|\\(|\\)', \"\")"
      ],
      "execution_count": 0,
      "outputs": []
    },
    {
      "cell_type": "code",
      "metadata": {
        "id": "JO5ea-JZ3ZkH",
        "colab_type": "code",
        "colab": {}
      },
      "source": [
        "# And again fill in blank reviews with '' rather than Null (which would give us errors).\n",
        "data['review_text'] = data['review_text'].fillna('')"
      ],
      "execution_count": 0,
      "outputs": []
    },
    {
      "cell_type": "code",
      "metadata": {
        "id": "fx6bJ3I70zff",
        "colab_type": "code",
        "colab": {
          "base_uri": "https://localhost:8080/",
          "height": 142
        },
        "outputId": "a993fd45-d78a-4981-e737-fbb6e4f82d30"
      },
      "source": [
        "data.head(3)"
      ],
      "execution_count": 21,
      "outputs": [
        {
          "output_type": "execute_result",
          "data": {
            "text/html": [
              "<div>\n",
              "<style scoped>\n",
              "    .dataframe tbody tr th:only-of-type {\n",
              "        vertical-align: middle;\n",
              "    }\n",
              "\n",
              "    .dataframe tbody tr th {\n",
              "        vertical-align: top;\n",
              "    }\n",
              "\n",
              "    .dataframe thead th {\n",
              "        text-align: right;\n",
              "    }\n",
              "</style>\n",
              "<table border=\"1\" class=\"dataframe\">\n",
              "  <thead>\n",
              "    <tr style=\"text-align: right;\">\n",
              "      <th></th>\n",
              "      <th>hotel_name</th>\n",
              "      <th>review_rating</th>\n",
              "      <th>review_text</th>\n",
              "    </tr>\n",
              "  </thead>\n",
              "  <tbody>\n",
              "    <tr>\n",
              "      <th>0</th>\n",
              "      <td>Hotel Russo Palace</td>\n",
              "      <td>4.0</td>\n",
              "      <td>pleasant 10 min walk along the sea front to th...</td>\n",
              "    </tr>\n",
              "    <tr>\n",
              "      <th>1</th>\n",
              "      <td>Hotel Russo Palace</td>\n",
              "      <td>5.0</td>\n",
              "      <td>really lovely hotel stayed on the very top flo...</td>\n",
              "    </tr>\n",
              "    <tr>\n",
              "      <th>2</th>\n",
              "      <td>Hotel Russo Palace</td>\n",
              "      <td>5.0</td>\n",
              "      <td>ett mycket bra hotell det som drog ner betyget...</td>\n",
              "    </tr>\n",
              "  </tbody>\n",
              "</table>\n",
              "</div>"
            ],
            "text/plain": [
              "           hotel_name  ...                                        review_text\n",
              "0  Hotel Russo Palace  ...  pleasant 10 min walk along the sea front to th...\n",
              "1  Hotel Russo Palace  ...  really lovely hotel stayed on the very top flo...\n",
              "2  Hotel Russo Palace  ...  ett mycket bra hotell det som drog ner betyget...\n",
              "\n",
              "[3 rows x 3 columns]"
            ]
          },
          "metadata": {
            "tags": []
          },
          "execution_count": 21
        }
      ]
    },
    {
      "cell_type": "markdown",
      "metadata": {
        "id": "LvtBtKBg3dBo",
        "colab_type": "text"
      },
      "source": [
        "Since we're working on a sentiment analysis project, let's have some fun and change the reviews from numbers to a more emotional human sentiment!"
      ]
    },
    {
      "cell_type": "code",
      "metadata": {
        "id": "3P-V_rYPhCZa",
        "colab_type": "code",
        "colab": {
          "base_uri": "https://localhost:8080/",
          "height": 142
        },
        "outputId": "e39fc5e7-e595-48ac-c372-3cb507803323"
      },
      "source": [
        "# Taking our hotel ratings and \"translating\" them to sentiment labels\n",
        "data['review_sentiment'] = data['review_rating'].map({1.0:'hate',\n",
        "                                                      2.0:'dislike',\n",
        "                                                      3.0:'meh',\n",
        "                                                      4.0:'like',\n",
        "                                                      5.0:'love'}, )\n",
        "\n",
        "data.head(3)\n"
      ],
      "execution_count": 23,
      "outputs": [
        {
          "output_type": "execute_result",
          "data": {
            "text/html": [
              "<div>\n",
              "<style scoped>\n",
              "    .dataframe tbody tr th:only-of-type {\n",
              "        vertical-align: middle;\n",
              "    }\n",
              "\n",
              "    .dataframe tbody tr th {\n",
              "        vertical-align: top;\n",
              "    }\n",
              "\n",
              "    .dataframe thead th {\n",
              "        text-align: right;\n",
              "    }\n",
              "</style>\n",
              "<table border=\"1\" class=\"dataframe\">\n",
              "  <thead>\n",
              "    <tr style=\"text-align: right;\">\n",
              "      <th></th>\n",
              "      <th>hotel_name</th>\n",
              "      <th>review_rating</th>\n",
              "      <th>review_text</th>\n",
              "      <th>review_sentiment</th>\n",
              "    </tr>\n",
              "  </thead>\n",
              "  <tbody>\n",
              "    <tr>\n",
              "      <th>0</th>\n",
              "      <td>Hotel Russo Palace</td>\n",
              "      <td>4.0</td>\n",
              "      <td>pleasant 10 min walk along the sea front to th...</td>\n",
              "      <td>like</td>\n",
              "    </tr>\n",
              "    <tr>\n",
              "      <th>1</th>\n",
              "      <td>Hotel Russo Palace</td>\n",
              "      <td>5.0</td>\n",
              "      <td>really lovely hotel stayed on the very top flo...</td>\n",
              "      <td>love</td>\n",
              "    </tr>\n",
              "    <tr>\n",
              "      <th>2</th>\n",
              "      <td>Hotel Russo Palace</td>\n",
              "      <td>5.0</td>\n",
              "      <td>ett mycket bra hotell det som drog ner betyget...</td>\n",
              "      <td>love</td>\n",
              "    </tr>\n",
              "  </tbody>\n",
              "</table>\n",
              "</div>"
            ],
            "text/plain": [
              "           hotel_name  ...  review_sentiment\n",
              "0  Hotel Russo Palace  ...              like\n",
              "1  Hotel Russo Palace  ...              love\n",
              "2  Hotel Russo Palace  ...              love\n",
              "\n",
              "[3 rows x 4 columns]"
            ]
          },
          "metadata": {
            "tags": []
          },
          "execution_count": 23
        }
      ]
    },
    {
      "cell_type": "markdown",
      "metadata": {
        "id": "RrXI4Oes30NG",
        "colab_type": "text"
      },
      "source": [
        "After we've done that we can get rid of the old rating column and get rid of any of our rows that are missing a review."
      ]
    },
    {
      "cell_type": "code",
      "metadata": {
        "id": "CCvnwdxF3098",
        "colab_type": "code",
        "colab": {}
      },
      "source": [
        "# Dropping that original rating column\n",
        "data.drop(columns='review_rating', inplace=True)\n",
        "\n",
        "# Dropping all rows where there is a null value in the sentiment column\n",
        "data.dropna(subset=['review_sentiment'], inplace=True)"
      ],
      "execution_count": 0,
      "outputs": []
    },
    {
      "cell_type": "code",
      "metadata": {
        "id": "K4vMp_Y4wCMu",
        "colab_type": "code",
        "colab": {
          "base_uri": "https://localhost:8080/",
          "height": 34
        },
        "outputId": "13844b7d-b620-4e88-a9f0-081b0ce88752"
      },
      "source": [
        "data.head(3)\n",
        "data.shape"
      ],
      "execution_count": 26,
      "outputs": [
        {
          "output_type": "execute_result",
          "data": {
            "text/plain": [
              "(34181, 3)"
            ]
          },
          "metadata": {
            "tags": []
          },
          "execution_count": 26
        }
      ]
    },
    {
      "cell_type": "code",
      "metadata": {
        "id": "JxrBPpCghw73",
        "colab_type": "code",
        "colab": {
          "base_uri": "https://localhost:8080/",
          "height": 317
        },
        "outputId": "25c997ba-c0aa-4aff-f979-678872b8bbfe"
      },
      "source": [
        "# Quick look at the distribution of our label\n",
        "data['review_sentiment'].value_counts().plot(kind = 'bar')\n",
        "plt.title('Label Counts in the Data Set')\n",
        "plt.xlabel('Review sentiment')\n",
        "plt.ylabel('Review counts');"
      ],
      "execution_count": 28,
      "outputs": [
        {
          "output_type": "display_data",
          "data": {
            "image/png": "[encoded data removed]",
            "text/plain": [
              "<Figure size 432x288 with 1 Axes>"
            ]
          },
          "metadata": {
            "tags": []
          }
        }
      ]
    },
    {
      "cell_type": "markdown",
      "metadata": {
        "id": "SRgPXcCuwy9Y",
        "colab_type": "text"
      },
      "source": [
        "## Creating a Bag of Words\n",
        "- In this step, we'll take all of that text that we cleaned up and encode it so our model can understand it.\n",
        "- Scikit-learn has a number of[ different ways](https://scikit-learn.org/stable/modules/feature_extraction.html) to do this, today we'll stick with the [CountVectorizer](https://scikit-learn.org/stable/modules/generated/sklearn.feature_extraction.text.CountVectorizer.html)."
      ]
    },
    {
      "cell_type": "code",
      "metadata": {
        "id": "ZAt9U7JBpiRs",
        "colab_type": "code",
        "colab": {}
      },
      "source": [
        "# Import and initiate a vectorizer.\n",
        "from sklearn.feature_extraction.text import CountVectorizer\n",
        "\n",
        "# The max features is how many words we want to allow us to create columns for.\n",
        "vectorizer = CountVectorizer(max_features=5000)"
      ],
      "execution_count": 0,
      "outputs": []
    },
    {
      "cell_type": "code",
      "metadata": {
        "id": "8dLDUo5Zpkmb",
        "colab_type": "code",
        "colab": {}
      },
      "source": [
        "# Vectorize our reviews to transform sentences into columns.\n",
        "X = vectorizer.fit_transform(data['review_text'])\n",
        "\n",
        "# And then put all of that in a table.\n",
        "bag_of_words = pd.DataFrame(X.toarray(), columns=vectorizer.get_feature_names())"
      ],
      "execution_count": 0,
      "outputs": []
    },
    {
      "cell_type": "code",
      "metadata": {
        "id": "-aQ0M5UGj0V_",
        "colab_type": "code",
        "colab": {
          "base_uri": "https://localhost:8080/",
          "height": 191
        },
        "outputId": "f8098865-115f-46e3-f24d-8f90f2289dfc"
      },
      "source": [
        "bag_of_words.head(3)"
      ],
      "execution_count": 31,
      "outputs": [
        {
          "output_type": "execute_result",
          "data": {
            "text/html": [
              "<div>\n",
              "<style scoped>\n",
              "    .dataframe tbody tr th:only-of-type {\n",
              "        vertical-align: middle;\n",
              "    }\n",
              "\n",
              "    .dataframe tbody tr th {\n",
              "        vertical-align: top;\n",
              "    }\n",
              "\n",
              "    .dataframe thead th {\n",
              "        text-align: right;\n",
              "    }\n",
              "</style>\n",
              "<table border=\"1\" class=\"dataframe\">\n",
              "  <thead>\n",
              "    <tr style=\"text-align: right;\">\n",
              "      <th></th>\n",
              "      <th>00</th>\n",
              "      <th>00am</th>\n",
              "      <th>00pm</th>\n",
              "      <th>10</th>\n",
              "      <th>100</th>\n",
              "      <th>1000</th>\n",
              "      <th>10000</th>\n",
              "      <th>101</th>\n",
              "      <th>1015</th>\n",
              "      <th>10am</th>\n",
              "      <th>10pm</th>\n",
              "      <th>10th</th>\n",
              "      <th>11</th>\n",
              "      <th>110</th>\n",
              "      <th>115</th>\n",
              "      <th>11am</th>\n",
              "      <th>11pm</th>\n",
              "      <th>12</th>\n",
              "      <th>120</th>\n",
              "      <th>125</th>\n",
              "      <th>13</th>\n",
              "      <th>130</th>\n",
              "      <th>14</th>\n",
              "      <th>15</th>\n",
              "      <th>150</th>\n",
              "      <th>1520</th>\n",
              "      <th>16</th>\n",
              "      <th>17</th>\n",
              "      <th>18</th>\n",
              "      <th>19</th>\n",
              "      <th>1am</th>\n",
              "      <th>1st</th>\n",
              "      <th>20</th>\n",
              "      <th>200</th>\n",
              "      <th>2000</th>\n",
              "      <th>2012</th>\n",
              "      <th>2013</th>\n",
              "      <th>2014</th>\n",
              "      <th>2015</th>\n",
              "      <th>2016</th>\n",
              "      <th>...</th>\n",
              "      <th>ya</th>\n",
              "      <th>yard</th>\n",
              "      <th>yards</th>\n",
              "      <th>yeah</th>\n",
              "      <th>year</th>\n",
              "      <th>yearly</th>\n",
              "      <th>years</th>\n",
              "      <th>yelled</th>\n",
              "      <th>yelling</th>\n",
              "      <th>yellow</th>\n",
              "      <th>yellowstone</th>\n",
              "      <th>yes</th>\n",
              "      <th>yet</th>\n",
              "      <th>yo</th>\n",
              "      <th>yogurt</th>\n",
              "      <th>york</th>\n",
              "      <th>yosemite</th>\n",
              "      <th>you</th>\n",
              "      <th>youd</th>\n",
              "      <th>youll</th>\n",
              "      <th>young</th>\n",
              "      <th>younger</th>\n",
              "      <th>your</th>\n",
              "      <th>youre</th>\n",
              "      <th>yourself</th>\n",
              "      <th>youth</th>\n",
              "      <th>youve</th>\n",
              "      <th>yr</th>\n",
              "      <th>yrs</th>\n",
              "      <th>yuck</th>\n",
              "      <th>yummy</th>\n",
              "      <th>zero</th>\n",
              "      <th>zimmer</th>\n",
              "      <th>zion</th>\n",
              "      <th>zona</th>\n",
              "      <th>zone</th>\n",
              "      <th>zoo</th>\n",
              "      <th>zu</th>\n",
              "      <th>zum</th>\n",
              "      <th>zur</th>\n",
              "    </tr>\n",
              "  </thead>\n",
              "  <tbody>\n",
              "    <tr>\n",
              "      <th>0</th>\n",
              "      <td>0</td>\n",
              "      <td>0</td>\n",
              "      <td>0</td>\n",
              "      <td>1</td>\n",
              "      <td>0</td>\n",
              "      <td>0</td>\n",
              "      <td>0</td>\n",
              "      <td>0</td>\n",
              "      <td>0</td>\n",
              "      <td>0</td>\n",
              "      <td>0</td>\n",
              "      <td>0</td>\n",
              "      <td>0</td>\n",
              "      <td>0</td>\n",
              "      <td>0</td>\n",
              "      <td>0</td>\n",
              "      <td>0</td>\n",
              "      <td>0</td>\n",
              "      <td>0</td>\n",
              "      <td>0</td>\n",
              "      <td>0</td>\n",
              "      <td>0</td>\n",
              "      <td>0</td>\n",
              "      <td>0</td>\n",
              "      <td>0</td>\n",
              "      <td>0</td>\n",
              "      <td>0</td>\n",
              "      <td>0</td>\n",
              "      <td>0</td>\n",
              "      <td>0</td>\n",
              "      <td>0</td>\n",
              "      <td>0</td>\n",
              "      <td>0</td>\n",
              "      <td>0</td>\n",
              "      <td>0</td>\n",
              "      <td>0</td>\n",
              "      <td>0</td>\n",
              "      <td>0</td>\n",
              "      <td>0</td>\n",
              "      <td>0</td>\n",
              "      <td>...</td>\n",
              "      <td>0</td>\n",
              "      <td>0</td>\n",
              "      <td>0</td>\n",
              "      <td>0</td>\n",
              "      <td>0</td>\n",
              "      <td>0</td>\n",
              "      <td>0</td>\n",
              "      <td>0</td>\n",
              "      <td>0</td>\n",
              "      <td>0</td>\n",
              "      <td>0</td>\n",
              "      <td>0</td>\n",
              "      <td>0</td>\n",
              "      <td>0</td>\n",
              "      <td>0</td>\n",
              "      <td>0</td>\n",
              "      <td>0</td>\n",
              "      <td>0</td>\n",
              "      <td>0</td>\n",
              "      <td>0</td>\n",
              "      <td>0</td>\n",
              "      <td>0</td>\n",
              "      <td>0</td>\n",
              "      <td>0</td>\n",
              "      <td>0</td>\n",
              "      <td>0</td>\n",
              "      <td>0</td>\n",
              "      <td>0</td>\n",
              "      <td>0</td>\n",
              "      <td>0</td>\n",
              "      <td>0</td>\n",
              "      <td>0</td>\n",
              "      <td>0</td>\n",
              "      <td>0</td>\n",
              "      <td>0</td>\n",
              "      <td>0</td>\n",
              "      <td>0</td>\n",
              "      <td>0</td>\n",
              "      <td>0</td>\n",
              "      <td>0</td>\n",
              "    </tr>\n",
              "    <tr>\n",
              "      <th>1</th>\n",
              "      <td>0</td>\n",
              "      <td>0</td>\n",
              "      <td>0</td>\n",
              "      <td>0</td>\n",
              "      <td>0</td>\n",
              "      <td>0</td>\n",
              "      <td>0</td>\n",
              "      <td>0</td>\n",
              "      <td>0</td>\n",
              "      <td>0</td>\n",
              "      <td>0</td>\n",
              "      <td>0</td>\n",
              "      <td>0</td>\n",
              "      <td>0</td>\n",
              "      <td>0</td>\n",
              "      <td>0</td>\n",
              "      <td>0</td>\n",
              "      <td>0</td>\n",
              "      <td>0</td>\n",
              "      <td>0</td>\n",
              "      <td>0</td>\n",
              "      <td>0</td>\n",
              "      <td>0</td>\n",
              "      <td>0</td>\n",
              "      <td>0</td>\n",
              "      <td>0</td>\n",
              "      <td>0</td>\n",
              "      <td>0</td>\n",
              "      <td>0</td>\n",
              "      <td>0</td>\n",
              "      <td>0</td>\n",
              "      <td>0</td>\n",
              "      <td>0</td>\n",
              "      <td>0</td>\n",
              "      <td>0</td>\n",
              "      <td>0</td>\n",
              "      <td>0</td>\n",
              "      <td>0</td>\n",
              "      <td>0</td>\n",
              "      <td>0</td>\n",
              "      <td>...</td>\n",
              "      <td>0</td>\n",
              "      <td>0</td>\n",
              "      <td>0</td>\n",
              "      <td>0</td>\n",
              "      <td>0</td>\n",
              "      <td>0</td>\n",
              "      <td>0</td>\n",
              "      <td>0</td>\n",
              "      <td>0</td>\n",
              "      <td>0</td>\n",
              "      <td>0</td>\n",
              "      <td>0</td>\n",
              "      <td>0</td>\n",
              "      <td>0</td>\n",
              "      <td>0</td>\n",
              "      <td>0</td>\n",
              "      <td>0</td>\n",
              "      <td>0</td>\n",
              "      <td>0</td>\n",
              "      <td>0</td>\n",
              "      <td>0</td>\n",
              "      <td>0</td>\n",
              "      <td>0</td>\n",
              "      <td>0</td>\n",
              "      <td>0</td>\n",
              "      <td>0</td>\n",
              "      <td>0</td>\n",
              "      <td>0</td>\n",
              "      <td>0</td>\n",
              "      <td>0</td>\n",
              "      <td>0</td>\n",
              "      <td>0</td>\n",
              "      <td>0</td>\n",
              "      <td>0</td>\n",
              "      <td>0</td>\n",
              "      <td>0</td>\n",
              "      <td>0</td>\n",
              "      <td>0</td>\n",
              "      <td>0</td>\n",
              "      <td>0</td>\n",
              "    </tr>\n",
              "    <tr>\n",
              "      <th>2</th>\n",
              "      <td>0</td>\n",
              "      <td>0</td>\n",
              "      <td>0</td>\n",
              "      <td>0</td>\n",
              "      <td>0</td>\n",
              "      <td>0</td>\n",
              "      <td>0</td>\n",
              "      <td>0</td>\n",
              "      <td>0</td>\n",
              "      <td>0</td>\n",
              "      <td>0</td>\n",
              "      <td>0</td>\n",
              "      <td>0</td>\n",
              "      <td>0</td>\n",
              "      <td>0</td>\n",
              "      <td>0</td>\n",
              "      <td>0</td>\n",
              "      <td>0</td>\n",
              "      <td>0</td>\n",
              "      <td>0</td>\n",
              "      <td>0</td>\n",
              "      <td>0</td>\n",
              "      <td>0</td>\n",
              "      <td>0</td>\n",
              "      <td>0</td>\n",
              "      <td>0</td>\n",
              "      <td>0</td>\n",
              "      <td>0</td>\n",
              "      <td>0</td>\n",
              "      <td>0</td>\n",
              "      <td>0</td>\n",
              "      <td>0</td>\n",
              "      <td>0</td>\n",
              "      <td>0</td>\n",
              "      <td>0</td>\n",
              "      <td>0</td>\n",
              "      <td>0</td>\n",
              "      <td>0</td>\n",
              "      <td>0</td>\n",
              "      <td>0</td>\n",
              "      <td>...</td>\n",
              "      <td>0</td>\n",
              "      <td>0</td>\n",
              "      <td>0</td>\n",
              "      <td>0</td>\n",
              "      <td>0</td>\n",
              "      <td>0</td>\n",
              "      <td>0</td>\n",
              "      <td>0</td>\n",
              "      <td>0</td>\n",
              "      <td>0</td>\n",
              "      <td>0</td>\n",
              "      <td>0</td>\n",
              "      <td>0</td>\n",
              "      <td>0</td>\n",
              "      <td>0</td>\n",
              "      <td>0</td>\n",
              "      <td>0</td>\n",
              "      <td>0</td>\n",
              "      <td>0</td>\n",
              "      <td>0</td>\n",
              "      <td>0</td>\n",
              "      <td>0</td>\n",
              "      <td>0</td>\n",
              "      <td>0</td>\n",
              "      <td>0</td>\n",
              "      <td>0</td>\n",
              "      <td>0</td>\n",
              "      <td>0</td>\n",
              "      <td>0</td>\n",
              "      <td>0</td>\n",
              "      <td>0</td>\n",
              "      <td>0</td>\n",
              "      <td>0</td>\n",
              "      <td>0</td>\n",
              "      <td>0</td>\n",
              "      <td>0</td>\n",
              "      <td>0</td>\n",
              "      <td>0</td>\n",
              "      <td>0</td>\n",
              "      <td>0</td>\n",
              "    </tr>\n",
              "  </tbody>\n",
              "</table>\n",
              "<p>3 rows × 5000 columns</p>\n",
              "</div>"
            ],
            "text/plain": [
              "   00  00am  00pm  10  100  1000  10000  ...  zion  zona  zone  zoo  zu  zum  zur\n",
              "0   0     0     0   1    0     0      0  ...     0     0     0    0   0    0    0\n",
              "1   0     0     0   0    0     0      0  ...     0     0     0    0   0    0    0\n",
              "2   0     0     0   0    0     0      0  ...     0     0     0    0   0    0    0\n",
              "\n",
              "[3 rows x 5000 columns]"
            ]
          },
          "metadata": {
            "tags": []
          },
          "execution_count": 31
        }
      ]
    },
    {
      "cell_type": "markdown",
      "metadata": {
        "id": "WP-va30mx4WU",
        "colab_type": "text"
      },
      "source": [
        "## Modeling\n",
        "Now that we've got everything cleaned up and restructured, it's time to model!\n",
        "- We'll use our `bag_of_words` as our features to predict our label of `review_sentiment`.\n",
        "- `X` is a common convention for designating our feature matrix  — the same is true for using `y` for the target series.\n",
        "- Once we've defined those, we can have our [Multinomial Naive Bayes model](https://scikit-learn.org/stable/modules/generated/sklearn.naive_bayes.MultinomialNB.html#sklearn.naive_bayes.MultinomialNB) learn from them just like we would in many other machine learning problems."
      ]
    },
    {
      "cell_type": "code",
      "metadata": {
        "id": "zXq4WThNpn2z",
        "colab_type": "code",
        "colab": {}
      },
      "source": [
        "# X is our features or attributes.\n",
        "X = bag_of_words\n",
        "\n",
        "# y is our review sentiment column (the outcome we care about).\n",
        "y = data['review_sentiment']"
      ],
      "execution_count": 0,
      "outputs": []
    },
    {
      "cell_type": "code",
      "metadata": {
        "id": "I2-VuQ_ZiHNm",
        "colab_type": "code",
        "colab": {}
      },
      "source": [
        "# Import and instantiate our model\n",
        "from sklearn.naive_bayes import MultinomialNB\n",
        "model = MultinomialNB()\n",
        "\n",
        "# Train our model on the review text and associated labels\n",
        "trained_model = model.fit(X, y)"
      ],
      "execution_count": 0,
      "outputs": []
    },
    {
      "cell_type": "markdown",
      "metadata": {
        "id": "Tu3zLX4LqC-c",
        "colab_type": "text"
      },
      "source": [
        "## Making Predictions From Our Model\n",
        "After our model has learned from our historical data, we can introduce new or unseen reviews to it and ask it to predict the sentiment of those.\n",
        "- Go ahead and play around with the text in your review and see how the output changes!"
      ]
    },
    {
      "cell_type": "code",
      "metadata": {
        "id": "FzhMrHanprBj",
        "colab_type": "code",
        "colab": {}
      },
      "source": [
        "# Write your own hotel review here...\n",
        "test_review = ['''\n",
        "    worst\n",
        "    ''']"
      ],
      "execution_count": 0,
      "outputs": []
    },
    {
      "cell_type": "code",
      "metadata": {
        "id": "7GzGD4Vtptcs",
        "colab_type": "code",
        "colab": {}
      },
      "source": [
        "# Convert the test review just like we did earlier.\n",
        "X_test = vectorizer.transform(test_review).toarray()"
      ],
      "execution_count": 0,
      "outputs": []
    },
    {
      "cell_type": "code",
      "metadata": {
        "id": "3_vklGiZzg_J",
        "colab_type": "code",
        "colab": {
          "base_uri": "https://localhost:8080/",
          "height": 34
        },
        "outputId": "3bd15baa-1e07-42fe-e382-22fed29fa615"
      },
      "source": [
        "# Use our model to predict a label for it\n",
        "prediction = trained_model.predict(X_test)\n",
        "print(prediction)"
      ],
      "execution_count": 51,
      "outputs": [
        {
          "output_type": "stream",
          "text": [
            "['hate']\n"
          ],
          "name": "stdout"
        }
      ]
    },
    {
      "cell_type": "code",
      "metadata": {
        "id": "7tE0DcTTpu1r",
        "colab_type": "code",
        "colab": {
          "base_uri": "https://localhost:8080/",
          "height": 34
        },
        "outputId": "f32d647a-1111-4792-c676-1bfb4a5866b6"
      },
      "source": [
        "# Alternatively, we can predict a probability for each sentiment\n",
        "probas = trained_model.predict_proba(X_test)[0]\n",
        "\n",
        "# And convert it to a more readable output.\n",
        "probabilities = [str(int(x*100))+'%' for x in probas]\n",
        "labels = list(trained_model.classes_)\n",
        "dict(zip(probabilities, labels))"
      ],
      "execution_count": 52,
      "outputs": [
        {
          "output_type": "execute_result",
          "data": {
            "text/plain": [
              "{'17%': 'meh', '4%': 'love', '54%': 'hate', '6%': 'like'}"
            ]
          },
          "metadata": {
            "tags": []
          },
          "execution_count": 52
        }
      ]
    },
    {
      "cell_type": "markdown",
      "metadata": {
        "id": "OZQpZSl5Ry6B",
        "colab_type": "text"
      },
      "source": [
        "# Take Home Challenge\n",
        "Now that you've been introduced to some of the foundational concepts within the NLP space, we want you to apply what you've learned outside of the workshop environment. We went over the concepts of using \"stop words\" and \"n-grams\" to (hopefully) improve your analysis and the accuracy of your model, but didn't actually apply them yet in this workbook.\n",
        "\n",
        "To do so:\n",
        "- Try removing stop words from your bag of words structure before feeding it into the Multinomial NB classifier. This can be as simple as including an argument for the `stop_words` parameter in the [CountVectorizer](https://scikit-learn.org/stable/modules/generated/sklearn.feature_extraction.text.CountVectorizer.html#sklearn.feature_extraction.text.CountVectorizer) class.\n",
        "- Additionally, try using bigrams to create some additional context for the text that you're analyzing. Again, scikit-learn makes implementing that change relatively easy by including an `ngram_range` parameter within the same [CountVectorizer](https://scikit-learn.org/stable/modules/generated/sklearn.feature_extraction.text.CountVectorizer.html#sklearn.feature_extraction.text.CountVectorizer) class.\n",
        "- As you make these changes (and maybe others!), be sure to note how your predictions change accordingly. Do they behave more or less in the ways that you expect?\n",
        "\n",
        "**Bonus Advanced Challenge:**\n",
        "Looking to take your modeling powers to the next level? You're going to want a way to see if the predictions that your model is making are accurate or not. In a practical setting, one of the most common ways to do this is by using [train-test-split](https://scikit-learn.org/stable/modules/generated/sklearn.model_selection.train_test_split.html).\n",
        " - You will take a large portion of your data (75% by default using `sklearn`) and train your model or have it learn from all of that information.\n",
        " - The other smaller portion (25% in this case) will be held out — your model will **not** learn from these data points. Instead, they can be used to simulate real-world or unseen data points.\n",
        " - You will ask your model to make predictions on this smaller set and then compare the predictions made against the actual ground truths to find out how well your model performs.\n",
        " - Some common metrics for classification performance are [accuracy](https://scikit-learn.org/stable/modules/generated/sklearn.metrics.accuracy_score.html#sklearn.metrics.accuracy_score) and inspecting the [confusion matrix](https://scikit-learn.org/stable/modules/generated/sklearn.metrics.confusion_matrix.html).\n",
        "\n",
        "# Keep Learning with Thinkful\n",
        "If you enjoyed today's session and want to take a deeper dive into many of the topics that we covered today like Pandas, SQL, predictive modeling, visualizing your data, and so much more, we'd love to have you join us again!\n",
        "- Check out more of our webinars at [Thinkful Webinars](https://www.thinkful.com/webinars/)\n",
        "- Get a taste of what the actual program would be like with our [Two-Week Free Trial](https://www.thinkful.com/join/sign-up/?signup_key=virtual-data)\n",
        "  - Flexible Online Course\n",
        "  - Start with Python and Statistics\n",
        "  - Access to a Personal Program Manager\n",
        "  - Attend Unlimited Q&A Sessions \n",
        "  - Participate in the Student Slack Community"
      ]
    }
  ]
}